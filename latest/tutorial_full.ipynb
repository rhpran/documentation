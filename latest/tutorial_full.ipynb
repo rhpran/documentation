{
 "cells": [
  {
   "cell_type": "markdown",
   "id": "8da5152c",
   "metadata": {},
   "source": [
    "## Tutorial\n",
    "\n",
    "This guide can help you start working with NetworkX.\n",
    "\n",
    "### Creating a graph\n",
    "\n",
    "Create an empty graph with no nodes and no edges."
   ]
  },
  {
   "cell_type": "code",
   "execution_count": 1,
   "id": "18109de4",
   "metadata": {
    "execution": {
     "iopub.execute_input": "2022-07-19T01:41:03.676727Z",
     "iopub.status.busy": "2022-07-19T01:41:03.676451Z",
     "iopub.status.idle": "2022-07-19T01:41:03.746705Z",
     "shell.execute_reply": "2022-07-19T01:41:03.745959Z"
    }
   },
   "outputs": [],
   "source": [
    "import networkx as nx\n",
    "G = nx.Graph()"
   ]
  },
  {
   "cell_type": "markdown",
   "id": "45d36593",
   "metadata": {},
   "source": [
    "By definition, a `Graph` is a collection of nodes (vertices) along with\n",
    "identified pairs of nodes (called edges, links, etc).  In NetworkX, nodes can\n",
    "be any [hashable](https://docs.python.org/3/glossary.html#term-hashable) object e.g., a text string, an image, an XML object,\n",
    "another Graph, a customized node object, etc.\n",
    "\n",
    "# Nodes\n",
    "\n",
    "The graph `G` can be grown in several ways.  NetworkX includes many\n",
    "graph generator functions and\n",
    "facilities to read and write graphs in many formats.\n",
    "To get started though we’ll look at simple manipulations.  You can add one node\n",
    "at a time,"
   ]
  },
  {
   "cell_type": "code",
   "execution_count": 2,
   "id": "48647294",
   "metadata": {
    "execution": {
     "iopub.execute_input": "2022-07-19T01:41:03.750869Z",
     "iopub.status.busy": "2022-07-19T01:41:03.750616Z",
     "iopub.status.idle": "2022-07-19T01:41:03.753976Z",
     "shell.execute_reply": "2022-07-19T01:41:03.753310Z"
    }
   },
   "outputs": [],
   "source": [
    "G.add_node(1)"
   ]
  },
  {
   "cell_type": "markdown",
   "id": "ee98865c",
   "metadata": {},
   "source": [
    "or add nodes from any [iterable](https://docs.python.org/3/glossary.html#term-iterable) container, such as a list"
   ]
  },
  {
   "cell_type": "code",
   "execution_count": 3,
   "id": "6cdca93e",
   "metadata": {
    "execution": {
     "iopub.execute_input": "2022-07-19T01:41:03.757028Z",
     "iopub.status.busy": "2022-07-19T01:41:03.756814Z",
     "iopub.status.idle": "2022-07-19T01:41:03.759779Z",
     "shell.execute_reply": "2022-07-19T01:41:03.759158Z"
    }
   },
   "outputs": [],
   "source": [
    "G.add_nodes_from([2, 3])"
   ]
  },
  {
   "cell_type": "markdown",
   "id": "1eacc3f5",
   "metadata": {},
   "source": [
    "You can also add nodes along with node\n",
    "attributes if your container yields 2-tuples of the form\n",
    "`(node, node_attribute_dict)`:\n",
    "\n",
    "```\n",
    ">>> G.add_nodes_from([\n",
    "...     (4, {\"color\": \"red\"}),\n",
    "...     (5, {\"color\": \"green\"}),\n",
    "... ])\n",
    "```\n",
    "\n",
    "Node attributes are discussed further below.\n",
    "\n",
    "Nodes from one graph can be incorporated into another:"
   ]
  },
  {
   "cell_type": "code",
   "execution_count": 4,
   "id": "ab5dabd3",
   "metadata": {
    "execution": {
     "iopub.execute_input": "2022-07-19T01:41:03.762834Z",
     "iopub.status.busy": "2022-07-19T01:41:03.762626Z",
     "iopub.status.idle": "2022-07-19T01:41:03.766145Z",
     "shell.execute_reply": "2022-07-19T01:41:03.765502Z"
    }
   },
   "outputs": [],
   "source": [
    "H = nx.path_graph(10)\n",
    "G.add_nodes_from(H)"
   ]
  },
  {
   "cell_type": "markdown",
   "id": "a46fdd55",
   "metadata": {},
   "source": [
    "`G` now contains the nodes of `H` as nodes of `G`.\n",
    "In contrast, you could use the graph `H` as a node in `G`."
   ]
  },
  {
   "cell_type": "code",
   "execution_count": 5,
   "id": "afa905dc",
   "metadata": {
    "execution": {
     "iopub.execute_input": "2022-07-19T01:41:03.769085Z",
     "iopub.status.busy": "2022-07-19T01:41:03.768870Z",
     "iopub.status.idle": "2022-07-19T01:41:03.771701Z",
     "shell.execute_reply": "2022-07-19T01:41:03.771080Z"
    }
   },
   "outputs": [],
   "source": [
    "G.add_node(H)"
   ]
  },
  {
   "cell_type": "markdown",
   "id": "69624012",
   "metadata": {},
   "source": [
    "The graph `G` now contains `H` as a node.  This flexibility is very powerful as\n",
    "it allows graphs of graphs, graphs of files, graphs of functions and much more.\n",
    "It is worth thinking about how to structure your application so that the nodes\n",
    "are useful entities.  Of course you can always use a unique identifier in `G`\n",
    "and have a separate dictionary keyed by identifier to the node information if\n",
    "you prefer.\n",
    "\n",
    "# Edges\n",
    "\n",
    "`G` can also be grown by adding one edge at a time,"
   ]
  },
  {
   "cell_type": "code",
   "execution_count": 6,
   "id": "7a30a09f",
   "metadata": {
    "execution": {
     "iopub.execute_input": "2022-07-19T01:41:03.774576Z",
     "iopub.status.busy": "2022-07-19T01:41:03.774367Z",
     "iopub.status.idle": "2022-07-19T01:41:03.777510Z",
     "shell.execute_reply": "2022-07-19T01:41:03.776889Z"
    }
   },
   "outputs": [],
   "source": [
    "G.add_edge(1, 2)\n",
    "e = (2, 3)\n",
    "G.add_edge(*e)  # unpack edge tuple*"
   ]
  },
  {
   "cell_type": "markdown",
   "id": "cbd3c491",
   "metadata": {},
   "source": [
    "by adding a list of edges,"
   ]
  },
  {
   "cell_type": "code",
   "execution_count": 7,
   "id": "8173181d",
   "metadata": {
    "execution": {
     "iopub.execute_input": "2022-07-19T01:41:03.780555Z",
     "iopub.status.busy": "2022-07-19T01:41:03.780345Z",
     "iopub.status.idle": "2022-07-19T01:41:03.783401Z",
     "shell.execute_reply": "2022-07-19T01:41:03.782756Z"
    }
   },
   "outputs": [],
   "source": [
    "G.add_edges_from([(1, 2), (1, 3)])"
   ]
  },
  {
   "cell_type": "markdown",
   "id": "fd6acb91",
   "metadata": {},
   "source": [
    "or by adding any ebunch of edges.  An *ebunch* is any iterable\n",
    "container of edge-tuples.  An edge-tuple can be a 2-tuple of nodes or a 3-tuple\n",
    "with 2 nodes followed by an edge attribute dictionary, e.g.,\n",
    "`(2, 3, {'weight': 3.1415})`.  Edge attributes are discussed further\n",
    "below."
   ]
  },
  {
   "cell_type": "code",
   "execution_count": 8,
   "id": "27729ed5",
   "metadata": {
    "execution": {
     "iopub.execute_input": "2022-07-19T01:41:03.786471Z",
     "iopub.status.busy": "2022-07-19T01:41:03.786258Z",
     "iopub.status.idle": "2022-07-19T01:41:03.789230Z",
     "shell.execute_reply": "2022-07-19T01:41:03.788596Z"
    }
   },
   "outputs": [],
   "source": [
    "G.add_edges_from(H.edges)"
   ]
  },
  {
   "cell_type": "markdown",
   "id": "6d1e1929",
   "metadata": {},
   "source": [
    "There are no complaints when adding existing nodes or edges. For example,\n",
    "after removing all nodes and edges,"
   ]
  },
  {
   "cell_type": "code",
   "execution_count": 9,
   "id": "836c91d8",
   "metadata": {
    "execution": {
     "iopub.execute_input": "2022-07-19T01:41:03.792257Z",
     "iopub.status.busy": "2022-07-19T01:41:03.792047Z",
     "iopub.status.idle": "2022-07-19T01:41:03.794913Z",
     "shell.execute_reply": "2022-07-19T01:41:03.794266Z"
    }
   },
   "outputs": [],
   "source": [
    "G.clear()"
   ]
  },
  {
   "cell_type": "markdown",
   "id": "64d9743a",
   "metadata": {},
   "source": [
    "we add new nodes/edges and NetworkX quietly ignores any that are\n",
    "already present."
   ]
  },
  {
   "cell_type": "code",
   "execution_count": 10,
   "id": "5eb627a2",
   "metadata": {
    "execution": {
     "iopub.execute_input": "2022-07-19T01:41:03.797942Z",
     "iopub.status.busy": "2022-07-19T01:41:03.797734Z",
     "iopub.status.idle": "2022-07-19T01:41:03.801635Z",
     "shell.execute_reply": "2022-07-19T01:41:03.801014Z"
    }
   },
   "outputs": [],
   "source": [
    "G.add_edges_from([(1, 2), (1, 3)])\n",
    "G.add_node(1)\n",
    "G.add_edge(1, 2)\n",
    "G.add_node(\"spam\")        # adds node \"spam\"\n",
    "G.add_nodes_from(\"spam\")  # adds 4 nodes: 's', 'p', 'a', 'm'\n",
    "G.add_edge(3, 'm')"
   ]
  },
  {
   "cell_type": "markdown",
   "id": "1b9f39ac",
   "metadata": {},
   "source": [
    "At this stage the graph `G` consists of 8 nodes and 3 edges, as can be seen by:"
   ]
  },
  {
   "cell_type": "code",
   "execution_count": 11,
   "id": "fd28134f",
   "metadata": {
    "execution": {
     "iopub.execute_input": "2022-07-19T01:41:03.804627Z",
     "iopub.status.busy": "2022-07-19T01:41:03.804419Z",
     "iopub.status.idle": "2022-07-19T01:41:03.813386Z",
     "shell.execute_reply": "2022-07-19T01:41:03.812740Z"
    }
   },
   "outputs": [
    {
     "data": {
      "text/plain": [
       "3"
      ]
     },
     "execution_count": 11,
     "metadata": {},
     "output_type": "execute_result"
    }
   ],
   "source": [
    "G.number_of_nodes()\n",
    "G.number_of_edges()"
   ]
  },
  {
   "cell_type": "code",
   "execution_count": 12,
   "id": "0082d7c2",
   "metadata": {
    "execution": {
     "iopub.execute_input": "2022-07-19T01:41:03.816823Z",
     "iopub.status.busy": "2022-07-19T01:41:03.816614Z",
     "iopub.status.idle": "2022-07-19T01:41:03.820961Z",
     "shell.execute_reply": "2022-07-19T01:41:03.820310Z"
    }
   },
   "outputs": [],
   "source": [
    "DG = nx.DiGraph()\n",
    "DG.add_edge(2, 1)   # adds the nodes in order 2, 1\n",
    "DG.add_edge(1, 3)\n",
    "DG.add_edge(2, 4)\n",
    "DG.add_edge(1, 2)\n",
    "assert list(DG.successors(2)) == [1, 4]\n",
    "assert list(DG.edges) == [(2, 1), (2, 4), (1, 3), (1, 2)]"
   ]
  },
  {
   "cell_type": "markdown",
   "id": "2ac605ec",
   "metadata": {},
   "source": [
    "# Examining elements of a graph\n",
    "\n",
    "We can examine the nodes and edges. Four basic graph properties facilitate\n",
    "reporting: `G.nodes`, `G.edges`, `G.adj` and `G.degree`.  These\n",
    "are set-like views of the nodes, edges, neighbors (adjacencies), and degrees\n",
    "of nodes in a graph. They offer a continually updated read-only view into\n",
    "the graph structure. They are also dict-like in that you can look up node\n",
    "and edge data attributes via the views and iterate with data attributes\n",
    "using methods `.items()`, `.data()`.\n",
    "If you want a specific container type instead of a view, you can specify one.\n",
    "Here we use lists, though sets, dicts, tuples and other containers may be\n",
    "better in other contexts."
   ]
  },
  {
   "cell_type": "code",
   "execution_count": 13,
   "id": "fb50e534",
   "metadata": {
    "execution": {
     "iopub.execute_input": "2022-07-19T01:41:03.824037Z",
     "iopub.status.busy": "2022-07-19T01:41:03.823802Z",
     "iopub.status.idle": "2022-07-19T01:41:03.828355Z",
     "shell.execute_reply": "2022-07-19T01:41:03.827712Z"
    }
   },
   "outputs": [
    {
     "data": {
      "text/plain": [
       "2"
      ]
     },
     "execution_count": 13,
     "metadata": {},
     "output_type": "execute_result"
    }
   ],
   "source": [
    "list(G.nodes)\n",
    "list(G.edges)\n",
    "list(G.adj[1])  # or list(G.neighbors(1))\n",
    "G.degree[1]  # the number of edges incident to 1"
   ]
  },
  {
   "cell_type": "markdown",
   "id": "2400653d",
   "metadata": {},
   "source": [
    "One can specify to report the edges and degree from a subset of all nodes\n",
    "using an nbunch. An *nbunch* is any of: `None` (meaning all nodes),\n",
    "a node, or an iterable container of nodes that is not itself a node in the\n",
    "graph."
   ]
  },
  {
   "cell_type": "code",
   "execution_count": 14,
   "id": "75164584",
   "metadata": {
    "execution": {
     "iopub.execute_input": "2022-07-19T01:41:03.832455Z",
     "iopub.status.busy": "2022-07-19T01:41:03.832245Z",
     "iopub.status.idle": "2022-07-19T01:41:03.836510Z",
     "shell.execute_reply": "2022-07-19T01:41:03.835860Z"
    }
   },
   "outputs": [
    {
     "data": {
      "text/plain": [
       "DegreeView({2: 1, 3: 2})"
      ]
     },
     "execution_count": 14,
     "metadata": {},
     "output_type": "execute_result"
    }
   ],
   "source": [
    "G.edges([2, 'm'])\n",
    "G.degree([2, 3])"
   ]
  },
  {
   "cell_type": "markdown",
   "id": "f293bafc",
   "metadata": {},
   "source": [
    "# Removing elements from a graph\n",
    "\n",
    "One can remove nodes and edges from the graph in a similar fashion to adding.\n",
    "Use methods\n",
    "`Graph.remove_node()`,\n",
    "`Graph.remove_nodes_from()`,\n",
    "`Graph.remove_edge()`\n",
    "and\n",
    "`Graph.remove_edges_from()`, e.g."
   ]
  },
  {
   "cell_type": "code",
   "execution_count": 15,
   "id": "43f79aa8",
   "metadata": {
    "execution": {
     "iopub.execute_input": "2022-07-19T01:41:03.839966Z",
     "iopub.status.busy": "2022-07-19T01:41:03.839755Z",
     "iopub.status.idle": "2022-07-19T01:41:03.843126Z",
     "shell.execute_reply": "2022-07-19T01:41:03.842479Z"
    }
   },
   "outputs": [],
   "source": [
    "G.remove_node(2)\n",
    "G.remove_nodes_from(\"spam\")\n",
    "list(G.nodes)\n",
    "G.remove_edge(1, 3)"
   ]
  },
  {
   "cell_type": "markdown",
   "id": "aed7f1c0",
   "metadata": {},
   "source": [
    "# Using the graph constructors\n",
    "\n",
    "Graph objects do not have to be built up incrementally - data specifying\n",
    "graph structure can be passed directly to the constructors of the various\n",
    "graph classes.\n",
    "When creating a graph structure by instantiating one of the graph\n",
    "classes you can specify data in several formats."
   ]
  },
  {
   "cell_type": "code",
   "execution_count": 16,
   "id": "4983182e",
   "metadata": {
    "execution": {
     "iopub.execute_input": "2022-07-19T01:41:03.846074Z",
     "iopub.status.busy": "2022-07-19T01:41:03.845863Z",
     "iopub.status.idle": "2022-07-19T01:41:04.097508Z",
     "shell.execute_reply": "2022-07-19T01:41:04.096776Z"
    }
   },
   "outputs": [
    {
     "data": {
      "text/plain": [
       "[(0, 1), (0, 2), (1, 2)]"
      ]
     },
     "execution_count": 16,
     "metadata": {},
     "output_type": "execute_result"
    }
   ],
   "source": [
    "G.add_edge(1, 2)\n",
    "H = nx.DiGraph(G)  # create a DiGraph using the connections from G\n",
    "list(H.edges())\n",
    "edgelist = [(0, 1), (1, 2), (2, 3)]\n",
    "H = nx.Graph(edgelist)  # create a graph from an edge list\n",
    "list(H.edges())\n",
    "adjacency_dict = {0: (1, 2), 1: (0, 2), 2: (0, 1)}\n",
    "H = nx.Graph(adjacency_dict)  # create a Graph dict mapping nodes to nbrs\n",
    "list(H.edges())"
   ]
  },
  {
   "cell_type": "markdown",
   "id": "554125b4",
   "metadata": {},
   "source": [
    "# What to use as nodes and edges\n",
    "\n",
    "You might notice that nodes and edges are not specified as NetworkX\n",
    "objects.  This leaves you free to use meaningful items as nodes and\n",
    "edges. The most common choices are numbers or strings, but a node can\n",
    "be any hashable object (except `None`), and an edge can be associated\n",
    "with any object `x` using `G.add_edge(n1, n2, object=x)`.\n",
    "\n",
    "As an example, `n1` and `n2` could be protein objects from the RCSB Protein\n",
    "Data Bank, and `x` could refer to an XML record of publications detailing\n",
    "experimental observations of their interaction.\n",
    "\n",
    "We have found this power quite useful, but its abuse\n",
    "can lead to surprising behavior unless one is familiar with Python.\n",
    "If in doubt, consider using `convert_node_labels_to_integers()` to obtain\n",
    "a more traditional graph with integer labels.\n",
    "\n",
    "# Accessing edges and neighbors\n",
    "\n",
    "In addition to the views `Graph.edges`, and `Graph.adj`,\n",
    "access to edges and neighbors is possible using subscript notation."
   ]
  },
  {
   "cell_type": "code",
   "execution_count": 17,
   "id": "0704a999",
   "metadata": {
    "execution": {
     "iopub.execute_input": "2022-07-19T01:41:04.101056Z",
     "iopub.status.busy": "2022-07-19T01:41:04.100701Z",
     "iopub.status.idle": "2022-07-19T01:41:04.107013Z",
     "shell.execute_reply": "2022-07-19T01:41:04.106356Z"
    }
   },
   "outputs": [
    {
     "data": {
      "text/plain": [
       "{'color': 'yellow'}"
      ]
     },
     "execution_count": 17,
     "metadata": {},
     "output_type": "execute_result"
    }
   ],
   "source": [
    "G = nx.Graph([(1, 2, {\"color\": \"yellow\"})])\n",
    "G[1]  # same as G.adj[1]\n",
    "G[1][2]\n",
    "G.edges[1, 2]"
   ]
  },
  {
   "cell_type": "markdown",
   "id": "6e8c4d85",
   "metadata": {},
   "source": [
    "You can get/set the attributes of an edge using subscript notation\n",
    "if the edge already exists."
   ]
  },
  {
   "cell_type": "code",
   "execution_count": 18,
   "id": "ad574096",
   "metadata": {
    "execution": {
     "iopub.execute_input": "2022-07-19T01:41:04.110161Z",
     "iopub.status.busy": "2022-07-19T01:41:04.109929Z",
     "iopub.status.idle": "2022-07-19T01:41:04.114822Z",
     "shell.execute_reply": "2022-07-19T01:41:04.114172Z"
    }
   },
   "outputs": [
    {
     "data": {
      "text/plain": [
       "{'color': 'red'}"
      ]
     },
     "execution_count": 18,
     "metadata": {},
     "output_type": "execute_result"
    }
   ],
   "source": [
    "G.add_edge(1, 3)\n",
    "G[1][3]['color'] = \"blue\"\n",
    "G.edges[1, 2]['color'] = \"red\"\n",
    "G.edges[1, 2]"
   ]
  },
  {
   "cell_type": "markdown",
   "id": "964ee1ee",
   "metadata": {},
   "source": [
    "Fast examination of all (node, adjacency) pairs is achieved using\n",
    "`G.adjacency()`, or `G.adj.items()`.\n",
    "Note that for undirected graphs, adjacency iteration sees each edge twice."
   ]
  },
  {
   "cell_type": "code",
   "execution_count": 19,
   "id": "20a34700",
   "metadata": {
    "execution": {
     "iopub.execute_input": "2022-07-19T01:41:04.118541Z",
     "iopub.status.busy": "2022-07-19T01:41:04.118314Z",
     "iopub.status.idle": "2022-07-19T01:41:04.123255Z",
     "shell.execute_reply": "2022-07-19T01:41:04.122591Z"
    }
   },
   "outputs": [
    {
     "name": "stdout",
     "output_type": "stream",
     "text": [
      "(1, 2, 0.125)\n",
      "(2, 1, 0.125)\n",
      "(3, 4, 0.375)\n",
      "(4, 3, 0.375)\n"
     ]
    }
   ],
   "source": [
    "FG = nx.Graph()\n",
    "FG.add_weighted_edges_from([(1, 2, 0.125), (1, 3, 0.75), (2, 4, 1.2), (3, 4, 0.375)])\n",
    "for n, nbrs in FG.adj.items():\n",
    "   for nbr, eattr in nbrs.items():\n",
    "       wt = eattr['weight']\n",
    "       if wt < 0.5: print(f\"({n}, {nbr}, {wt:.3})\")"
   ]
  },
  {
   "cell_type": "markdown",
   "id": "5392e8e9",
   "metadata": {},
   "source": [
    "Convenient access to all edges is achieved with the edges property."
   ]
  },
  {
   "cell_type": "code",
   "execution_count": 20,
   "id": "bfcc8c36",
   "metadata": {
    "execution": {
     "iopub.execute_input": "2022-07-19T01:41:04.126917Z",
     "iopub.status.busy": "2022-07-19T01:41:04.126698Z",
     "iopub.status.idle": "2022-07-19T01:41:04.130429Z",
     "shell.execute_reply": "2022-07-19T01:41:04.129789Z"
    }
   },
   "outputs": [
    {
     "name": "stdout",
     "output_type": "stream",
     "text": [
      "(1, 2, 0.125)\n",
      "(3, 4, 0.375)\n"
     ]
    }
   ],
   "source": [
    "for (u, v, wt) in FG.edges.data('weight'):\n",
    "    if wt < 0.5:\n",
    "        print(f\"({u}, {v}, {wt:.3})\")"
   ]
  },
  {
   "cell_type": "markdown",
   "id": "e054ae9a",
   "metadata": {},
   "source": [
    "# Adding attributes to graphs, nodes, and edges\n",
    "\n",
    "Attributes such as weights, labels, colors, or whatever Python object you like,\n",
    "can be attached to graphs, nodes, or edges.\n",
    "\n",
    "Each graph, node, and edge can hold key/value attribute pairs in an associated\n",
    "attribute dictionary (the keys must be hashable).  By default these are empty,\n",
    "but attributes can be added or changed using `add_edge`, `add_node` or direct\n",
    "manipulation of the attribute dictionaries named `G.graph`, `G.nodes`, and\n",
    "`G.edges` for a graph `G`.\n",
    "\n",
    "## Graph attributes\n",
    "\n",
    "Assign graph attributes when creating a new graph"
   ]
  },
  {
   "cell_type": "code",
   "execution_count": 21,
   "id": "4c86c953",
   "metadata": {
    "execution": {
     "iopub.execute_input": "2022-07-19T01:41:04.133973Z",
     "iopub.status.busy": "2022-07-19T01:41:04.133753Z",
     "iopub.status.idle": "2022-07-19T01:41:04.138006Z",
     "shell.execute_reply": "2022-07-19T01:41:04.137357Z"
    }
   },
   "outputs": [
    {
     "data": {
      "text/plain": [
       "{'day': 'Friday'}"
      ]
     },
     "execution_count": 21,
     "metadata": {},
     "output_type": "execute_result"
    }
   ],
   "source": [
    "G = nx.Graph(day=\"Friday\")\n",
    "G.graph"
   ]
  },
  {
   "cell_type": "markdown",
   "id": "15ccebb0",
   "metadata": {},
   "source": [
    "Or you can modify attributes later"
   ]
  },
  {
   "cell_type": "code",
   "execution_count": 22,
   "id": "37fa21aa",
   "metadata": {
    "execution": {
     "iopub.execute_input": "2022-07-19T01:41:04.141514Z",
     "iopub.status.busy": "2022-07-19T01:41:04.141296Z",
     "iopub.status.idle": "2022-07-19T01:41:04.145467Z",
     "shell.execute_reply": "2022-07-19T01:41:04.144827Z"
    }
   },
   "outputs": [
    {
     "data": {
      "text/plain": [
       "{'day': 'Monday'}"
      ]
     },
     "execution_count": 22,
     "metadata": {},
     "output_type": "execute_result"
    }
   ],
   "source": [
    "G.graph['day'] = \"Monday\"\n",
    "G.graph"
   ]
  },
  {
   "cell_type": "markdown",
   "id": "1046e065",
   "metadata": {},
   "source": [
    "# Node attributes\n",
    "\n",
    "Add node attributes using `add_node()`, `add_nodes_from()`, or `G.nodes`"
   ]
  },
  {
   "cell_type": "code",
   "execution_count": 23,
   "id": "19558481",
   "metadata": {
    "execution": {
     "iopub.execute_input": "2022-07-19T01:41:04.149660Z",
     "iopub.status.busy": "2022-07-19T01:41:04.149447Z",
     "iopub.status.idle": "2022-07-19T01:41:04.154469Z",
     "shell.execute_reply": "2022-07-19T01:41:04.153805Z"
    }
   },
   "outputs": [
    {
     "data": {
      "text/plain": [
       "NodeDataView({1: {'time': '5pm', 'room': 714}, 3: {'time': '2pm'}})"
      ]
     },
     "execution_count": 23,
     "metadata": {},
     "output_type": "execute_result"
    }
   ],
   "source": [
    "G.add_node(1, time='5pm')\n",
    "G.add_nodes_from([3], time='2pm')\n",
    "G.nodes[1]\n",
    "G.nodes[1]['room'] = 714\n",
    "G.nodes.data()"
   ]
  },
  {
   "cell_type": "markdown",
   "id": "528f4729",
   "metadata": {},
   "source": [
    "Note that adding a node to `G.nodes` does not add it to the graph, use\n",
    "`G.add_node()` to add new nodes. Similarly for edges.\n",
    "\n",
    "# Edge Attributes\n",
    "\n",
    "Add/change edge attributes using `add_edge()`, `add_edges_from()`,\n",
    "or subscript notation."
   ]
  },
  {
   "cell_type": "code",
   "execution_count": 24,
   "id": "dc7b9b92",
   "metadata": {
    "execution": {
     "iopub.execute_input": "2022-07-19T01:41:04.157968Z",
     "iopub.status.busy": "2022-07-19T01:41:04.157756Z",
     "iopub.status.idle": "2022-07-19T01:41:04.161952Z",
     "shell.execute_reply": "2022-07-19T01:41:04.161316Z"
    }
   },
   "outputs": [],
   "source": [
    "G.add_edge(1, 2, weight=4.7 )\n",
    "G.add_edges_from([(3, 4), (4, 5)], color='red')\n",
    "G.add_edges_from([(1, 2, {'color': 'blue'}), (2, 3, {'weight': 8})])\n",
    "G[1][2]['weight'] = 4.7\n",
    "G.edges[3, 4]['weight'] = 4.2"
   ]
  },
  {
   "cell_type": "markdown",
   "id": "10fef61c",
   "metadata": {},
   "source": [
    "The special attribute `weight` should be numeric as it is used by\n",
    "algorithms requiring weighted edges.\n",
    "\n",
    " Directed graphs\n",
    "\n",
    "The `DiGraph` class provides additional methods and properties specific\n",
    "to directed edges, e.g.,\n",
    "`DiGraph.out_edges`, `DiGraph.in_degree`,\n",
    "`DiGraph.predecessors`, `DiGraph.successors` etc.\n",
    "To allow algorithms to work with both classes easily, the directed versions of\n",
    "`neighbors` is equivalent to\n",
    "`successors` while `degree` reports the sum\n",
    "of `in_degree` and `out_degree` even though that may feel inconsistent at times."
   ]
  },
  {
   "cell_type": "code",
   "execution_count": 25,
   "id": "1bf48179",
   "metadata": {
    "execution": {
     "iopub.execute_input": "2022-07-19T01:41:04.164912Z",
     "iopub.status.busy": "2022-07-19T01:41:04.164699Z",
     "iopub.status.idle": "2022-07-19T01:41:04.170049Z",
     "shell.execute_reply": "2022-07-19T01:41:04.169408Z"
    }
   },
   "outputs": [
    {
     "data": {
      "text/plain": [
       "[2]"
      ]
     },
     "execution_count": 25,
     "metadata": {},
     "output_type": "execute_result"
    }
   ],
   "source": [
    "DG = nx.DiGraph()\n",
    "DG.add_weighted_edges_from([(1, 2, 0.5), (3, 1, 0.75)])\n",
    "DG.out_degree(1, weight='weight')\n",
    "DG.degree(1, weight='weight')\n",
    "list(DG.successors(1))\n",
    "list(DG.neighbors(1))"
   ]
  },
  {
   "cell_type": "markdown",
   "id": "ccde8991",
   "metadata": {},
   "source": [
    "Some algorithms work only for directed graphs and others are not well\n",
    "defined for directed graphs.  Indeed the tendency to lump directed\n",
    "and undirected graphs together is dangerous.  If you want to treat\n",
    "a directed graph as undirected for some measurement you should probably\n",
    "convert it using `Graph.to_undirected()` or with"
   ]
  },
  {
   "cell_type": "code",
   "execution_count": 26,
   "id": "56b0061f",
   "metadata": {
    "execution": {
     "iopub.execute_input": "2022-07-19T01:41:04.173535Z",
     "iopub.status.busy": "2022-07-19T01:41:04.173320Z",
     "iopub.status.idle": "2022-07-19T01:41:04.176346Z",
     "shell.execute_reply": "2022-07-19T01:41:04.175679Z"
    }
   },
   "outputs": [],
   "source": [
    "H = nx.Graph(G)  # create an undirected graph H from a directed graph G"
   ]
  },
  {
   "cell_type": "markdown",
   "id": "5a69a83b",
   "metadata": {},
   "source": [
    "# Multigraphs\n",
    "\n",
    "NetworkX provides classes for graphs which allow multiple edges\n",
    "between any pair of nodes.  The `MultiGraph` and\n",
    "`MultiDiGraph`\n",
    "classes allow you to add the same edge twice, possibly with different\n",
    "edge data.  This can be powerful for some applications, but many\n",
    "algorithms are not well defined on such graphs.\n",
    "Where results are well defined,\n",
    "e.g., `MultiGraph.degree()` we provide the function.  Otherwise you\n",
    "should convert to a standard graph in a way that makes the measurement\n",
    "well defined."
   ]
  },
  {
   "cell_type": "code",
   "execution_count": 27,
   "id": "ed7dc2eb",
   "metadata": {
    "execution": {
     "iopub.execute_input": "2022-07-19T01:41:04.179182Z",
     "iopub.status.busy": "2022-07-19T01:41:04.178971Z",
     "iopub.status.idle": "2022-07-19T01:41:04.185570Z",
     "shell.execute_reply": "2022-07-19T01:41:04.184920Z"
    }
   },
   "outputs": [
    {
     "data": {
      "text/plain": [
       "[1, 2, 3]"
      ]
     },
     "execution_count": 27,
     "metadata": {},
     "output_type": "execute_result"
    }
   ],
   "source": [
    "MG = nx.MultiGraph()\n",
    "MG.add_weighted_edges_from([(1, 2, 0.5), (1, 2, 0.75), (2, 3, 0.5)])\n",
    "dict(MG.degree(weight='weight'))\n",
    "GG = nx.Graph()\n",
    "for n, nbrs in MG.adjacency():\n",
    "   for nbr, edict in nbrs.items():\n",
    "       minvalue = min([d['weight'] for d in edict.values()])\n",
    "       GG.add_edge(n, nbr, weight = minvalue)\n",
    "\n",
    "nx.shortest_path(GG, 1, 3)"
   ]
  },
  {
   "cell_type": "markdown",
   "id": "01da0753",
   "metadata": {},
   "source": [
    "# Graph generators and graph operations\n",
    "\n",
    "In addition to constructing graphs node-by-node or edge-by-edge, they\n",
    "can also be generated by\n",
    "\n",
    "## 1. Applying classic graph operations, such as:\n",
    "\n",
    "## 2. Using a call to one of the classic small graphs, e.g.,\n",
    "\n",
    "## 3. Using a (constructive) generator for a classic graph, e.g.,\n",
    "\n",
    "like so:"
   ]
  },
  {
   "cell_type": "code",
   "execution_count": 28,
   "id": "29ad1767",
   "metadata": {
    "execution": {
     "iopub.execute_input": "2022-07-19T01:41:04.189062Z",
     "iopub.status.busy": "2022-07-19T01:41:04.188847Z",
     "iopub.status.idle": "2022-07-19T01:41:04.193077Z",
     "shell.execute_reply": "2022-07-19T01:41:04.192407Z"
    }
   },
   "outputs": [],
   "source": [
    "K_5 = nx.complete_graph(5)\n",
    "K_3_5 = nx.complete_bipartite_graph(3, 5)\n",
    "barbell = nx.barbell_graph(10, 10)\n",
    "lollipop = nx.lollipop_graph(10, 20)"
   ]
  },
  {
   "cell_type": "markdown",
   "id": "23e07fcb",
   "metadata": {},
   "source": [
    "# 4. Using a stochastic graph generator, e.g,\n",
    "\n",
    "like so:"
   ]
  },
  {
   "cell_type": "code",
   "execution_count": 29,
   "id": "05a30bf4",
   "metadata": {
    "execution": {
     "iopub.execute_input": "2022-07-19T01:41:04.195957Z",
     "iopub.status.busy": "2022-07-19T01:41:04.195742Z",
     "iopub.status.idle": "2022-07-19T01:41:04.266639Z",
     "shell.execute_reply": "2022-07-19T01:41:04.265913Z"
    }
   },
   "outputs": [],
   "source": [
    "er = nx.erdos_renyi_graph(100, 0.15)\n",
    "ws = nx.watts_strogatz_graph(30, 3, 0.1)\n",
    "ba = nx.barabasi_albert_graph(100, 5)\n",
    "red = nx.random_lobster(100, 0.9, 0.9)"
   ]
  },
  {
   "cell_type": "markdown",
   "id": "7cd3d122",
   "metadata": {},
   "source": [
    "# 5. Reading a graph stored in a file using common graph formats\n",
    "\n",
    "NetworkX supports many popular formats, such as edge lists, adjacency lists,\n",
    "GML, GraphML, LEDA and others."
   ]
  },
  {
   "cell_type": "code",
   "execution_count": 30,
   "id": "3b3cdcc0",
   "metadata": {
    "execution": {
     "iopub.execute_input": "2022-07-19T01:41:04.270421Z",
     "iopub.status.busy": "2022-07-19T01:41:04.270168Z",
     "iopub.status.idle": "2022-07-19T01:41:05.281232Z",
     "shell.execute_reply": "2022-07-19T01:41:05.280435Z"
    }
   },
   "outputs": [],
   "source": [
    "nx.write_gml(red, \"path.to.file\")\n",
    "mygraph = nx.read_gml(\"path.to.file\")"
   ]
  },
  {
   "cell_type": "markdown",
   "id": "a43bd5b5",
   "metadata": {},
   "source": [
    "For details on graph formats see Reading and writing graphs\n",
    "and for graph generator functions see Graph generators\n",
    "\n",
    " Analyzing graphs\n",
    "\n",
    "The structure of `G` can be analyzed using various graph-theoretic\n",
    "functions such as:"
   ]
  },
  {
   "cell_type": "code",
   "execution_count": 31,
   "id": "5182870e",
   "metadata": {
    "execution": {
     "iopub.execute_input": "2022-07-19T01:41:05.302119Z",
     "iopub.status.busy": "2022-07-19T01:41:05.301388Z",
     "iopub.status.idle": "2022-07-19T01:41:05.310445Z",
     "shell.execute_reply": "2022-07-19T01:41:05.309825Z"
    }
   },
   "outputs": [
    {
     "data": {
      "text/plain": [
       "{1: 0, 2: 0, 3: 0, 'spam': 0}"
      ]
     },
     "execution_count": 31,
     "metadata": {},
     "output_type": "execute_result"
    }
   ],
   "source": [
    "G = nx.Graph()\n",
    "G.add_edges_from([(1, 2), (1, 3)])\n",
    "G.add_node(\"spam\")       # adds node \"spam\"\n",
    "list(nx.connected_components(G))\n",
    "sorted(d for n, d in G.degree())\n",
    "nx.clustering(G)"
   ]
  },
  {
   "cell_type": "markdown",
   "id": "7c20d3d3",
   "metadata": {},
   "source": [
    "Some functions with large output iterate over (node, value) 2-tuples.\n",
    "These are easily stored in a [dict](https://docs.python.org/3/library/stdtypes.html#dict) structure if you desire."
   ]
  },
  {
   "cell_type": "code",
   "execution_count": 32,
   "id": "3799273a",
   "metadata": {
    "execution": {
     "iopub.execute_input": "2022-07-19T01:41:05.314820Z",
     "iopub.status.busy": "2022-07-19T01:41:05.314364Z",
     "iopub.status.idle": "2022-07-19T01:41:05.320805Z",
     "shell.execute_reply": "2022-07-19T01:41:05.320218Z"
    }
   },
   "outputs": [
    {
     "data": {
      "text/plain": [
       "{3: [3], 1: [3, 1], 2: [3, 1, 2]}"
      ]
     },
     "execution_count": 32,
     "metadata": {},
     "output_type": "execute_result"
    }
   ],
   "source": [
    "sp = dict(nx.all_pairs_shortest_path(G))\n",
    "sp[3]"
   ]
  },
  {
   "cell_type": "markdown",
   "id": "cca95a66",
   "metadata": {},
   "source": [
    "See Algorithms for details on graph algorithms\n",
    "supported.\n",
    "\n",
    "# Drawing graphs\n",
    "\n",
    "NetworkX is not primarily a graph drawing package but basic drawing with\n",
    "Matplotlib as well as an interface to use the open source Graphviz software\n",
    "package are included.  These are part of the networkx.drawing\n",
    "module and will be imported if possible.\n",
    "\n",
    "First import Matplotlib’s plot interface (pylab works too)"
   ]
  },
  {
   "cell_type": "code",
   "execution_count": 33,
   "id": "98bb4b89",
   "metadata": {
    "execution": {
     "iopub.execute_input": "2022-07-19T01:41:05.325187Z",
     "iopub.status.busy": "2022-07-19T01:41:05.323960Z",
     "iopub.status.idle": "2022-07-19T01:41:05.969700Z",
     "shell.execute_reply": "2022-07-19T01:41:05.968959Z"
    }
   },
   "outputs": [],
   "source": [
    "import matplotlib.pyplot as plt"
   ]
  },
  {
   "cell_type": "markdown",
   "id": "4b2aa4df",
   "metadata": {},
   "source": [
    "To test if the import of `nx_pylab` was successful draw `G`\n",
    "using one of"
   ]
  },
  {
   "cell_type": "code",
   "execution_count": 34,
   "id": "32e99ac9",
   "metadata": {
    "execution": {
     "iopub.execute_input": "2022-07-19T01:41:05.974641Z",
     "iopub.status.busy": "2022-07-19T01:41:05.973168Z",
     "iopub.status.idle": "2022-07-19T01:41:06.113951Z",
     "shell.execute_reply": "2022-07-19T01:41:06.113243Z"
    }
   },
   "outputs": [
    {
     "data": {
      "image/png": "[encoded data removed]",
      "text/plain": [
       "<Figure size 432x288 with 2 Axes>"
      ]
     },
     "metadata": {},
     "output_type": "display_data"
    }
   ],
   "source": [
    "G = nx.petersen_graph()\n",
    "subax1 = plt.subplot(121)\n",
    "nx.draw(G, with_labels=True, font_weight='bold')\n",
    "subax2 = plt.subplot(122)\n",
    "nx.draw_shell(G, nlist=[range(5, 10), range(5)], with_labels=True, font_weight='bold')"
   ]
  },
  {
   "cell_type": "markdown",
   "id": "20380973",
   "metadata": {},
   "source": [
    "when drawing to an interactive display.  Note that you may need to issue a\n",
    "Matplotlib"
   ]
  },
  {
   "cell_type": "code",
   "execution_count": 35,
   "id": "e901f270",
   "metadata": {
    "execution": {
     "iopub.execute_input": "2022-07-19T01:41:06.117280Z",
     "iopub.status.busy": "2022-07-19T01:41:06.116965Z",
     "iopub.status.idle": "2022-07-19T01:41:06.120737Z",
     "shell.execute_reply": "2022-07-19T01:41:06.119639Z"
    }
   },
   "outputs": [],
   "source": [
    "plt.show()"
   ]
  },
  {
   "cell_type": "markdown",
   "id": "85a323e9",
   "metadata": {},
   "source": [
    "command if you are not using matplotlib in interactive mode."
   ]
  },
  {
   "cell_type": "code",
   "execution_count": 36,
   "id": "8b6e0320",
   "metadata": {
    "execution": {
     "iopub.execute_input": "2022-07-19T01:41:06.124491Z",
     "iopub.status.busy": "2022-07-19T01:41:06.124043Z",
     "iopub.status.idle": "2022-07-19T01:41:06.279096Z",
     "shell.execute_reply": "2022-07-19T01:41:06.278527Z"
    }
   },
   "outputs": [
    {
     "data": {
      "image/png": "[encoded data removed]",
      "text/plain": [
       "<Figure size 432x288 with 4 Axes>"
      ]
     },
     "metadata": {},
     "output_type": "display_data"
    }
   ],
   "source": [
    "options = {\n",
    "    'node_color': 'black',\n",
    "    'node_size': 100,\n",
    "    'width': 3,\n",
    "}\n",
    "subax1 = plt.subplot(221)\n",
    "nx.draw_random(G, **options)\n",
    "subax2 = plt.subplot(222)\n",
    "nx.draw_circular(G, **options)\n",
    "subax3 = plt.subplot(223)\n",
    "nx.draw_spectral(G, **options)\n",
    "subax4 = plt.subplot(224)\n",
    "nx.draw_shell(G, nlist=[range(5,10), range(5)], **options)"
   ]
  },
  {
   "cell_type": "markdown",
   "id": "65953010",
   "metadata": {},
   "source": [
    "You can find additional options via `draw_networkx()` and\n",
    "layouts via the `layout module`.\n",
    "You can use multiple shells with `draw_shell()`."
   ]
  },
  {
   "cell_type": "code",
   "execution_count": 37,
   "id": "ce6dc754",
   "metadata": {
    "execution": {
     "iopub.execute_input": "2022-07-19T01:41:06.282435Z",
     "iopub.status.busy": "2022-07-19T01:41:06.281951Z",
     "iopub.status.idle": "2022-07-19T01:41:06.339343Z",
     "shell.execute_reply": "2022-07-19T01:41:06.338757Z"
    }
   },
   "outputs": [
    {
     "data": {
      "image/png": "[encoded data removed]",
      "text/plain": [
       "<Figure size 432x288 with 1 Axes>"
      ]
     },
     "metadata": {},
     "output_type": "display_data"
    }
   ],
   "source": [
    "G = nx.dodecahedral_graph()\n",
    "shells = [[2, 3, 4, 5, 6], [8, 1, 0, 19, 18, 17, 16, 15, 14, 7], [9, 10, 11, 12, 13]]\n",
    "nx.draw_shell(G, nlist=shells, **options)"
   ]
  },
  {
   "cell_type": "markdown",
   "id": "84224c38",
   "metadata": {},
   "source": [
    "To save drawings to a file, use, for example"
   ]
  },
  {
   "cell_type": "code",
   "execution_count": 38,
   "id": "39c5d40f",
   "metadata": {
    "execution": {
     "iopub.execute_input": "2022-07-19T01:41:06.342516Z",
     "iopub.status.busy": "2022-07-19T01:41:06.342052Z",
     "iopub.status.idle": "2022-07-19T01:41:06.490683Z",
     "shell.execute_reply": "2022-07-19T01:41:06.490108Z"
    }
   },
   "outputs": [
    {
     "data": {
      "image/png": "[encoded data removed]",
      "text/plain": [
       "<Figure size 432x288 with 1 Axes>"
      ]
     },
     "metadata": {},
     "output_type": "display_data"
    }
   ],
   "source": [
    "nx.draw(G)\n",
    "plt.savefig(\"path.png\")"
   ]
  },
  {
   "cell_type": "markdown",
   "id": "017de34d",
   "metadata": {},
   "source": [
    "This function writes to the file `path.png` in the local directory. If Graphviz and\n",
    "PyGraphviz or pydot, are available on your system, you can also use\n",
    "`networkx.drawing.nx_agraph.graphviz_layout` or\n",
    "`networkx.drawing.nx_pydot.graphviz_layout` to get the node positions, or write\n",
    "the graph in dot format for further processing."
   ]
  },
  {
   "cell_type": "code",
   "execution_count": 39,
   "id": "abf348fb",
   "metadata": {
    "execution": {
     "iopub.execute_input": "2022-07-19T01:41:06.494696Z",
     "iopub.status.busy": "2022-07-19T01:41:06.493368Z",
     "iopub.status.idle": "2022-07-19T01:41:06.591683Z",
     "shell.execute_reply": "2022-07-19T01:41:06.591113Z"
    }
   },
   "outputs": [
    {
     "data": {
      "image/png": "[encoded data removed]",
      "text/plain": [
       "<Figure size 432x288 with 1 Axes>"
      ]
     },
     "metadata": {},
     "output_type": "display_data"
    }
   ],
   "source": [
    "from networkx.drawing.nx_pydot import write_dot\n",
    "pos = nx.nx_agraph.graphviz_layout(G)\n",
    "nx.draw(G, pos=pos)\n",
    "write_dot(G, 'file.dot')"
   ]
  },
  {
   "cell_type": "markdown",
   "id": "a070ccf1",
   "metadata": {},
   "source": [
    "See Drawing for additional details."
   ]
  }
 ],
 "metadata": {
  "language_info": {
   "codemirror_mode": {
    "name": "ipython",
    "version": 3
   },
   "file_extension": ".py",
   "mimetype": "text/x-python",
   "name": "python",
   "nbconvert_exporter": "python",
   "pygments_lexer": "ipython3",
   "version": "3.9.13"
  }
 },
 "nbformat": 4,
 "nbformat_minor": 5
}